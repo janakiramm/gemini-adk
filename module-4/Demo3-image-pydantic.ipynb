{
 "cells": [
  {
   "cell_type": "markdown",
   "id": "cd7e60e9-4c8b-4364-bb83-256358d5c3b6",
   "metadata": {},
   "source": [
    "### Import Modules"
   ]
  },
  {
   "cell_type": "code",
   "execution_count": 1,
   "id": "f0fa7c82-f24a-44f7-b325-fbb93830e890",
   "metadata": {},
   "outputs": [],
   "source": [
    "from google import genai\n",
    "import PIL.Image\n",
    "from pydantic import BaseModel, Field\n",
    "from typing import List\n",
    "import os"
   ]
  },
  {
   "cell_type": "markdown",
   "id": "73376a7f-6cb9-476a-815e-a3bcf56c5e23",
   "metadata": {},
   "source": [
    "### Define Pydantic models"
   ]
  },
  {
   "cell_type": "code",
   "execution_count": 2,
   "id": "526bfbd8-4620-4316-8d13-0c3d28d8ab21",
   "metadata": {},
   "outputs": [],
   "source": [
    "class LineItem(BaseModel):\n",
    "    description: str\n",
    "    quantity: int\n",
    "    unit_price: float\n",
    "    total: float\n",
    "\n",
    "class Invoice(BaseModel):\n",
    "    invoice_number: str\n",
    "    date: str\n",
    "    vendor_name: str\n",
    "    line_items: List[LineItem]\n",
    "    total_amount: float"
   ]
  },
  {
   "cell_type": "markdown",
   "id": "e6ca6ba8-0e11-430b-a63b-78e7ffc1f9d5",
   "metadata": {},
   "source": [
    "### Initialize Client"
   ]
  },
  {
   "cell_type": "code",
   "execution_count": 3,
   "id": "a2eebe78-0ff5-40ab-996d-f4b9c9a0ffd7",
   "metadata": {},
   "outputs": [],
   "source": [
    "client = genai.Client(api_key=os.environ[\"GOOGLE_API_KEY\"])\n",
    "image = PIL.Image.open('data/invoice.jpg')"
   ]
  },
  {
   "cell_type": "markdown",
   "id": "106babb6-ff0c-48fb-bcc6-aa875c7a1f54",
   "metadata": {},
   "source": [
    "### Define Prompt"
   ]
  },
  {
   "cell_type": "code",
   "execution_count": 4,
   "id": "d570335c-1236-4731-99c0-564e5511e95c",
   "metadata": {},
   "outputs": [],
   "source": [
    "prompt=\"Extract the invoice details as structured data\""
   ]
  },
  {
   "cell_type": "markdown",
   "id": "0fcf6a36-8cd2-4aeb-a19d-7a3741de134a",
   "metadata": {},
   "source": [
    "### Generate Structured Data with Schema Validation"
   ]
  },
  {
   "cell_type": "code",
   "execution_count": 5,
   "id": "d0e494fd-b7ef-4198-8a9c-8ff141b17e97",
   "metadata": {},
   "outputs": [],
   "source": [
    "response = client.models.generate_content(\n",
    "    model=\"gemini-2.0-flash\",\n",
    "    contents=[prompt, image],\n",
    "    config={\"response_mime_type\": \"application/json\", \"response_schema\": Invoice}\n",
    ")"
   ]
  },
  {
   "cell_type": "markdown",
   "id": "92605625-6a28-446f-aabf-14581ca97615",
   "metadata": {},
   "source": [
    "### Access the validated data"
   ]
  },
  {
   "cell_type": "code",
   "execution_count": 6,
   "id": "9e3f9f3c-d58a-4a8e-80ec-d1f509716312",
   "metadata": {},
   "outputs": [],
   "source": [
    "invoice_data = response.parsed"
   ]
  },
  {
   "cell_type": "code",
   "execution_count": 7,
   "id": "d97f8241-8c16-4331-9846-7a17db5716f3",
   "metadata": {},
   "outputs": [
    {
     "name": "stdout",
     "output_type": "stream",
     "text": [
      "<class '__main__.Invoice'>\n",
      "[LineItem(description='Cappuccino (Tall)', quantity=1, unit_price=210.0, total=210.0), LineItem(description='Hot Chocolate (Tall)', quantity=1, unit_price=230.0, total=230.0), LineItem(description='CGST @ 2.5%', quantity=1, unit_price=11.0, total=11.0), LineItem(description='SGST @ 2.5%', quantity=1, unit_price=11.0, total=11.0)]\n",
      "Invoice #HYD04250987 from STARBUCKS\n",
      "Total amount: $462.0\n"
     ]
    }
   ],
   "source": [
    "print(type(invoice_data))\n",
    "print(invoice_data.line_items)\n",
    "print(f\"Invoice #{invoice_data.invoice_number} from {invoice_data.vendor_name}\")\n",
    "print(f\"Total amount: ${invoice_data.total_amount}\")"
   ]
  },
  {
   "cell_type": "code",
   "execution_count": null,
   "id": "e1c2f8e7-b3bd-498d-8e9f-5d8877274f8a",
   "metadata": {},
   "outputs": [],
   "source": []
  }
 ],
 "metadata": {
  "kernelspec": {
   "display_name": "Python 3 (ipykernel)",
   "language": "python",
   "name": "python3"
  },
  "language_info": {
   "codemirror_mode": {
    "name": "ipython",
    "version": 3
   },
   "file_extension": ".py",
   "mimetype": "text/x-python",
   "name": "python",
   "nbconvert_exporter": "python",
   "pygments_lexer": "ipython3",
   "version": "3.12.8"
  }
 },
 "nbformat": 4,
 "nbformat_minor": 5
}
