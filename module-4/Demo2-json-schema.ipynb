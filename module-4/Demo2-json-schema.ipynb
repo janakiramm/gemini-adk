{
 "cells": [
  {
   "cell_type": "markdown",
   "id": "ab92a91d-f732-48fc-9159-50d743d1adbe",
   "metadata": {},
   "source": [
    "### Import Modules"
   ]
  },
  {
   "cell_type": "code",
   "execution_count": 1,
   "id": "51049933-bcc4-402c-811b-f8e8b49cd2c8",
   "metadata": {},
   "outputs": [],
   "source": [
    "from google import genai\n",
    "import PIL.Image\n",
    "import os"
   ]
  },
  {
   "cell_type": "markdown",
   "id": "1770c3b4-6679-4ca6-8ce5-a46c5a8da082",
   "metadata": {},
   "source": [
    "### Initialize Client"
   ]
  },
  {
   "cell_type": "code",
   "execution_count": 3,
   "id": "7da63f1a-5e9d-4d3a-b7cc-043b7463f2db",
   "metadata": {},
   "outputs": [],
   "source": [
    "client = genai.Client(api_key=os.environ[\"GOOGLE_API_KEY\"])\n",
    "image = PIL.Image.open('data/invoice.jpg')"
   ]
  },
  {
   "cell_type": "markdown",
   "id": "b60bf950-80ff-4b39-994e-83c2a6e01785",
   "metadata": {},
   "source": [
    "### Define Prompt"
   ]
  },
  {
   "cell_type": "code",
   "execution_count": 4,
   "id": "f69c68ce-910d-413c-852e-6307bb6d85c3",
   "metadata": {},
   "outputs": [],
   "source": [
    "prompt = \"\"\"\n",
    "Extract the following information from this invoice: \n",
    "invoice number,date, vendor name, line items, subtotal, CGST, SGST,total amount, and transaction ID. \n",
    "Format the output as JSON.\n",
    "\"\"\""
   ]
  },
  {
   "cell_type": "markdown",
   "id": "9bea4516-3776-4da2-8cb8-1becc7d1e7d1",
   "metadata": {},
   "source": [
    "### Generate Response"
   ]
  },
  {
   "cell_type": "code",
   "execution_count": 5,
   "id": "f2f1f61d-c99c-4705-99c7-f1bcf3839b0e",
   "metadata": {},
   "outputs": [],
   "source": [
    "response = client.models.generate_content(\n",
    "    model=\"gemini-2.0-flash\",\n",
    "    contents=[prompt, image],\n",
    "    config={\n",
    "        \"response_mime_type\": \"application/json\",\n",
    "    }\n",
    ")"
   ]
  },
  {
   "cell_type": "code",
   "execution_count": 6,
   "id": "20314750-54f5-46a7-baed-d7f1c6beb734",
   "metadata": {},
   "outputs": [
    {
     "name": "stdout",
     "output_type": "stream",
     "text": [
      "{\n",
      "  \"invoice_number\": \"HYD04250987\",\n",
      "  \"date\": \"15-May-2025\",\n",
      "  \"vendor_name\": \"STARBUCKS\",\n",
      "  \"line_items\": [\n",
      "    {\n",
      "      \"item\": \"Cappuccino (Tall)\",\n",
      "      \"quantity\": \"1\",\n",
      "      \"price\": \"210.00\"\n",
      "    },\n",
      "    {\n",
      "      \"item\": \"Hot Chocolate (Tall)\",\n",
      "      \"quantity\": \"1\",\n",
      "      \"price\": \"230.00\"\n",
      "    }\n",
      "  ],\n",
      "  \"subtotal\": \"440.00\",\n",
      "  \"CGST\": \"11.00\",\n",
      "  \"SGST\": \"11.00\",\n",
      "  \"total_amount\": \"462.00\",\n",
      "  \"transaction_id\": \"G123HYD456789\"\n",
      "}\n"
     ]
    }
   ],
   "source": [
    "print(response.text)"
   ]
  },
  {
   "cell_type": "code",
   "execution_count": null,
   "id": "61beb90c-5c71-44bb-8283-662f1ecf90a3",
   "metadata": {},
   "outputs": [],
   "source": []
  },
  {
   "cell_type": "code",
   "execution_count": null,
   "id": "230d4fe8-bd21-4345-877c-a7636855a653",
   "metadata": {},
   "outputs": [],
   "source": []
  }
 ],
 "metadata": {
  "kernelspec": {
   "display_name": "Python 3 (ipykernel)",
   "language": "python",
   "name": "python3"
  },
  "language_info": {
   "codemirror_mode": {
    "name": "ipython",
    "version": 3
   },
   "file_extension": ".py",
   "mimetype": "text/x-python",
   "name": "python",
   "nbconvert_exporter": "python",
   "pygments_lexer": "ipython3",
   "version": "3.12.8"
  }
 },
 "nbformat": 4,
 "nbformat_minor": 5
}
