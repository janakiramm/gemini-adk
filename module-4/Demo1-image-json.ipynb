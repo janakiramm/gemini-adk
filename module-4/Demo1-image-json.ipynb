{
 "cells": [
  {
   "cell_type": "markdown",
   "id": "d592dd56-9235-48ef-afbf-f26806ca32ba",
   "metadata": {},
   "source": [
    "### Import Modules"
   ]
  },
  {
   "cell_type": "code",
   "execution_count": 1,
   "id": "da36023c-27b9-4454-8333-84fa2ff34260",
   "metadata": {},
   "outputs": [],
   "source": [
    "from google import genai\n",
    "from google.genai import types\n",
    "import os\n",
    "import pprint\n",
    "import re\n",
    "import json"
   ]
  },
  {
   "cell_type": "markdown",
   "id": "03500ac1-35ae-412f-bab2-adc6f0aaa9c1",
   "metadata": {},
   "source": [
    "### Initialize Client"
   ]
  },
  {
   "cell_type": "code",
   "execution_count": 2,
   "id": "8847b0eb-a289-4eae-844d-cb82141a98fe",
   "metadata": {},
   "outputs": [],
   "source": [
    "client = genai.Client(api_key=os.environ[\"GOOGLE_API_KEY\"])"
   ]
  },
  {
   "cell_type": "code",
   "execution_count": 3,
   "id": "b800942b-de48-471d-8e4c-e05e3b56efeb",
   "metadata": {},
   "outputs": [],
   "source": [
    "bill_img = client.files.upload(file=\"data/invoice.jpg\")"
   ]
  },
  {
   "cell_type": "markdown",
   "id": "ce8fed1c-c368-4f37-b6d0-40b875e86387",
   "metadata": {},
   "source": [
    "### Generate Response"
   ]
  },
  {
   "cell_type": "code",
   "execution_count": 4,
   "id": "5333c1f1-33ac-4f17-83e6-472b4f616453",
   "metadata": {},
   "outputs": [],
   "source": [
    "response = client.models.generate_content(\n",
    "    model=\"gemini-2.0-flash\",\n",
    "    contents=[bill_img, \"Extract the text within the image in JSON\"],\n",
    ")"
   ]
  },
  {
   "cell_type": "code",
   "execution_count": 5,
   "id": "d92dbf3c-dcd9-4403-826b-2f536331099f",
   "metadata": {},
   "outputs": [
    {
     "data": {
      "text/plain": [
       "'```json\\n{\\n  \"text\": \"STARBUCKS\\\\nCOFFEE COMPANY\\\\nA Tata Alliance\\\\nGVK One Mall, Road No. 1\\\\nBanjara Hills. Hyderabad - 500034\\\\nGSTIN: 36AAJCS6080L1Z\\\\nTel: +91-40-12345678\\\\nDate: 15-May-2025\\\\nTime: 10:42 AM\\\\nInvoice No. HYD04250987\\\\nItem\\\\nQty\\\\nPrice (INR)\\\\nCappuccino (Tall)\\\\n1\\\\n₹210.00\\\\nHot Chocolate (Tall)\\\\n1\\\\n₹230.00\\\\nSubtotal\\\\n₹440.00\\\\nCGST @ 2.5%\\\\n₹11.00\\\\nSGST @ 2.5%\\\\n₹11.00\\\\nTotal\\\\n₹462.00\\\\nPaid via: UPI - GPay\\\\nTransaction ID\\\\nG123HYD456789\\\\nThank you for visiting!\\\\nFollow us on @StarbucksIndia\\\\nwww.starbucks.in\"\\n}\\n```'"
      ]
     },
     "execution_count": 5,
     "metadata": {},
     "output_type": "execute_result"
    }
   ],
   "source": [
    "response.text"
   ]
  },
  {
   "cell_type": "markdown",
   "id": "d618d50b-5df8-4dd0-a162-6af4f4ce04f0",
   "metadata": {},
   "source": [
    "### Extract JSON"
   ]
  },
  {
   "cell_type": "code",
   "execution_count": 6,
   "id": "0ebaf4f1-a755-438c-b0b4-2000af20fb49",
   "metadata": {},
   "outputs": [],
   "source": [
    "match = re.search(r\"```json\\s*(\\{.*?\\})\\s*```\", response.text, re.DOTALL)"
   ]
  },
  {
   "cell_type": "code",
   "execution_count": 7,
   "id": "5eb2e4d3-3883-439b-9615-0c885ac05e5c",
   "metadata": {},
   "outputs": [],
   "source": [
    "json_str = match.group(1)\n",
    "data = json.loads(json_str)"
   ]
  },
  {
   "cell_type": "code",
   "execution_count": 8,
   "id": "e5e02590-a0f8-425f-8f87-ed3b28ea1bab",
   "metadata": {},
   "outputs": [
    {
     "name": "stdout",
     "output_type": "stream",
     "text": [
      "{'text': 'STARBUCKS\\n'\n",
      "         'COFFEE COMPANY\\n'\n",
      "         'A Tata Alliance\\n'\n",
      "         'GVK One Mall, Road No. 1\\n'\n",
      "         'Banjara Hills. Hyderabad - 500034\\n'\n",
      "         'GSTIN: 36AAJCS6080L1Z\\n'\n",
      "         'Tel: +91-40-12345678\\n'\n",
      "         'Date: 15-May-2025\\n'\n",
      "         'Time: 10:42 AM\\n'\n",
      "         'Invoice No. HYD04250987\\n'\n",
      "         'Item\\n'\n",
      "         'Qty\\n'\n",
      "         'Price (INR)\\n'\n",
      "         'Cappuccino (Tall)\\n'\n",
      "         '1\\n'\n",
      "         '₹210.00\\n'\n",
      "         'Hot Chocolate (Tall)\\n'\n",
      "         '1\\n'\n",
      "         '₹230.00\\n'\n",
      "         'Subtotal\\n'\n",
      "         '₹440.00\\n'\n",
      "         'CGST @ 2.5%\\n'\n",
      "         '₹11.00\\n'\n",
      "         'SGST @ 2.5%\\n'\n",
      "         '₹11.00\\n'\n",
      "         'Total\\n'\n",
      "         '₹462.00\\n'\n",
      "         'Paid via: UPI - GPay\\n'\n",
      "         'Transaction ID\\n'\n",
      "         'G123HYD456789\\n'\n",
      "         'Thank you for visiting!\\n'\n",
      "         'Follow us on @StarbucksIndia\\n'\n",
      "         'www.starbucks.in'}\n"
     ]
    }
   ],
   "source": [
    "pprint.pprint(data)"
   ]
  },
  {
   "cell_type": "code",
   "execution_count": null,
   "id": "dea8e6d3-1079-43fe-97e3-3010d2daf5e7",
   "metadata": {},
   "outputs": [],
   "source": []
  }
 ],
 "metadata": {
  "kernelspec": {
   "display_name": "Python 3 (ipykernel)",
   "language": "python",
   "name": "python3"
  },
  "language_info": {
   "codemirror_mode": {
    "name": "ipython",
    "version": 3
   },
   "file_extension": ".py",
   "mimetype": "text/x-python",
   "name": "python",
   "nbconvert_exporter": "python",
   "pygments_lexer": "ipython3",
   "version": "3.12.8"
  }
 },
 "nbformat": 4,
 "nbformat_minor": 5
}
