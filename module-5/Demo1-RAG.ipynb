{
 "cells": [
  {
   "cell_type": "markdown",
   "id": "2b55f141-9049-4ee6-86c0-67b950c072e6",
   "metadata": {},
   "source": [
    "### Import Modules"
   ]
  },
  {
   "cell_type": "code",
   "execution_count": 11,
   "id": "fa472b66-3169-41af-843c-57464e9da01b",
   "metadata": {},
   "outputs": [],
   "source": [
    "import PyPDF2\n",
    "import chromadb\n",
    "\n",
    "from google import genai\n",
    "from google.genai import types\n",
    "\n",
    "import re\n",
    "import os\n",
    "import random\n",
    "import json\n",
    "import uuid"
   ]
  },
  {
   "cell_type": "markdown",
   "id": "83d19dbc-7040-40fd-a0ed-dea69de44956",
   "metadata": {},
   "source": [
    "### Initialize Client"
   ]
  },
  {
   "cell_type": "code",
   "execution_count": 12,
   "id": "6db80c61-c576-4dcf-bab4-55dba48c8a61",
   "metadata": {},
   "outputs": [],
   "source": [
    "GOOGLE_API_KEY=os.environ.get('GOOGLE_API_KEY')\n",
    "pdf=\"data/datasheet.pdf\""
   ]
  },
  {
   "cell_type": "code",
   "execution_count": 13,
   "id": "c395b2ad-e16a-40b4-b089-71dc98d03ffa",
   "metadata": {},
   "outputs": [],
   "source": [
    "chroma_client = chromadb.Client()"
   ]
  },
  {
   "cell_type": "markdown",
   "id": "99dba8ee-7abb-40e8-8916-12fab49f1d71",
   "metadata": {},
   "source": [
    "### Index the Document (PDF)"
   ]
  },
  {
   "cell_type": "code",
   "execution_count": 14,
   "id": "e4e22bca-1422-4fe7-bbd4-66cfcdb112cb",
   "metadata": {},
   "outputs": [],
   "source": [
    "def extract_sentences_from_pdf(pdf_path):\n",
    "    with open(pdf_path, 'rb') as file:\n",
    "        reader = PyPDF2.PdfReader(file)\n",
    "        text = \"\"\n",
    "        for page in reader.pages:\n",
    "            if page.extract_text() is not None:\n",
    "                text += page.extract_text() + \" \"\n",
    "    sentences = [sentence.strip() for sentence in text.split('. ') if sentence.strip()]\n",
    "    return sentences"
   ]
  },
  {
   "cell_type": "code",
   "execution_count": 15,
   "id": "80505ca8-4797-4031-8893-d70e22ad9def",
   "metadata": {},
   "outputs": [],
   "source": [
    "def generate_text_embeddings(sentences:list):\n",
    "    client = genai.Client(api_key=GOOGLE_API_KEY)\n",
    "    result=client.models.embed_content(\n",
    "      model=\"text-embedding-004\",contents=sentences,config=types.EmbedContentConfig(task_type=\"SEMANTIC_SIMILARITY\"))\n",
    "    embeddings = result.embeddings\n",
    "    vectors = [embedding.values for embedding in embeddings]\n",
    "    return vectors"
   ]
  },
  {
   "cell_type": "code",
   "execution_count": 16,
   "id": "6e18d698-b0d5-4d81-857b-2b064dfbdca3",
   "metadata": {},
   "outputs": [],
   "source": [
    "def generate_and_save_embeddings(pdf_path):\n",
    "    sentences = extract_sentences_from_pdf(pdf_path)\n",
    "    embeddings = generate_text_embeddings(sentences)\n",
    "    \n",
    "    # Create a collection\n",
    "    collection = chroma_client.create_collection(name=\"my_collection\", get_or_create=True)\n",
    "    \n",
    "    # Generate unique IDs for each embedding\n",
    "    ids = [str(uuid.uuid4()) for _ in range(len(embeddings))]\n",
    "    \n",
    "    # Add embeddings with metadata\n",
    "    collection.add(\n",
    "        embeddings=embeddings,\n",
    "        ids=ids,\n",
    "        documents=sentences,\n",
    "        metadatas=[{\"source\": pdf_path} for _ in range(len(embeddings))]\n",
    "    )\n",
    "    \n",
    "    return collection"
   ]
  },
  {
   "cell_type": "code",
   "execution_count": 17,
   "id": "98f5d54f-c114-4683-b8b9-42245d6f03ea",
   "metadata": {},
   "outputs": [],
   "source": [
    "collection = generate_and_save_embeddings(pdf)"
   ]
  },
  {
   "attachments": {},
   "cell_type": "markdown",
   "id": "5e063ccc-0733-4719-8931-a23e8f3fec2f",
   "metadata": {},
   "source": [
    "### Perform Retrieval"
   ]
  },
  {
   "cell_type": "code",
   "execution_count": 18,
   "id": "87a6f30c-77e5-49bb-a2e5-cc023cf11b4d",
   "metadata": {},
   "outputs": [],
   "source": [
    "def rag_query(query, collection, k=5):\n",
    "    # Step 1: Embed the query\n",
    "    query_embedding = generate_text_embeddings([query])[0]\n",
    "    # Step 2: Retrieve top-k relevant sentences from ChromaDB\n",
    "    results = collection.query(query_embeddings=[query_embedding], n_results=k)\n",
    "    docs = results.get('documents', [[]])[0]\n",
    "    if not docs:\n",
    "        context = \"No relevant context found.\"\n",
    "    else:\n",
    "        context = \"\\n\".join(docs)\n",
    "    # Step 3: Compose prompt for Gemini\n",
    "    prompt = f\"Context:\\n{context}\\n\\nQuestion: {query}\\nAnswer:\"\n",
    "    # Step 4: Generate answer using Gemini 2.0 Flash\n",
    "    client = genai.Client(api_key=GOOGLE_API_KEY)\n",
    "    response = client.models.generate_content(\n",
    "        model=\"gemini-2.0-flash-001\",\n",
    "        contents=prompt,\n",
    "        config=types.GenerateContentConfig(max_output_tokens=1000),\n",
    "    )\n",
    "    return response.text if hasattr(response, 'text') else response"
   ]
  },
  {
   "cell_type": "code",
   "execution_count": 19,
   "id": "87bbe0c3-97cd-461a-8062-d413175b6c6b",
   "metadata": {},
   "outputs": [
    {
     "name": "stdout",
     "output_type": "stream",
     "text": [
      "\n",
      "RAG Answer to: 'Whats the battery life of the EchoSound Max on single charge?'\n",
      "This document does not mention the battery life of the EchoSound Max.\n",
      "\n"
     ]
    }
   ],
   "source": [
    "test_query = \"Whats the battery life of the EchoSound Max on single charge?\"\n",
    "answer = rag_query(test_query, collection)\n",
    "print(f\"\\nRAG Answer to: '{test_query}'\\n{answer}\")"
   ]
  },
  {
   "cell_type": "code",
   "execution_count": null,
   "id": "a7f12689-a06d-49c5-a9f0-a2f7ec17dccd",
   "metadata": {},
   "outputs": [],
   "source": [
    "test_query = \"What's the size of the SSD in Nimbus Book?\"\n",
    "answer = rag_query(test_query, collection)\n",
    "print(f\"\\nRAG Answer to: '{test_query}'\\n{answer}\")"
   ]
  },
  {
   "cell_type": "code",
   "execution_count": null,
   "id": "a396ad8c-94da-4ee1-ae47-28fd0627ddf5",
   "metadata": {},
   "outputs": [],
   "source": []
  }
 ],
 "metadata": {
  "kernelspec": {
   "display_name": "Python 3 (ipykernel)",
   "language": "python",
   "name": "python3"
  },
  "language_info": {
   "codemirror_mode": {
    "name": "ipython",
    "version": 3
   },
   "file_extension": ".py",
   "mimetype": "text/x-python",
   "name": "python",
   "nbconvert_exporter": "python",
   "pygments_lexer": "ipython3",
   "version": "3.12.8"
  }
 },
 "nbformat": 4,
 "nbformat_minor": 5
}
