{
 "cells": [
  {
   "cell_type": "markdown",
   "id": "87b0440a-06b4-4fd6-bf5a-d5c86cf162d0",
   "metadata": {},
   "source": [
    "### Import Modules"
   ]
  },
  {
   "cell_type": "code",
   "execution_count": 2,
   "id": "5d7b2afe-e84f-4edd-a545-51446a9e0177",
   "metadata": {},
   "outputs": [],
   "source": [
    "from google import genai\n",
    "from google.genai.types import Tool, GenerateContentConfig, GoogleSearch\n",
    "import os"
   ]
  },
  {
   "cell_type": "markdown",
   "id": "a08eec90-874f-43ab-99e5-0d99e210f1ec",
   "metadata": {},
   "source": [
    "### Initialize Client"
   ]
  },
  {
   "cell_type": "code",
   "execution_count": 4,
   "id": "5cdef43b-61a6-48b3-9fd4-8edd77c57999",
   "metadata": {},
   "outputs": [],
   "source": [
    "client = genai.Client(api_key=os.environ[\"GOOGLE_API_KEY\"])"
   ]
  },
  {
   "cell_type": "code",
   "execution_count": 5,
   "id": "60ed43e9-6597-4415-b47d-cad12cc181d2",
   "metadata": {},
   "outputs": [],
   "source": [
    "google_search_tool = Tool(\n",
    "    google_search = GoogleSearch()\n",
    ")"
   ]
  },
  {
   "cell_type": "markdown",
   "id": "3f471490-e236-4231-9ed2-467dce9e19c3",
   "metadata": {},
   "source": [
    "### Invoke the API"
   ]
  },
  {
   "cell_type": "code",
   "execution_count": 6,
   "id": "bcddcd61-a16d-4148-af65-f179b3cf67b1",
   "metadata": {},
   "outputs": [],
   "source": [
    "response = client.models.generate_content(\n",
    "    model=\"gemini-2.0-flash\",\n",
    "    contents=\"Who is hosting Olympics in 2026?\",\n",
    "    config=GenerateContentConfig(\n",
    "        tools=[google_search_tool],\n",
    "        response_modalities=[\"TEXT\"],\n",
    "    )\n",
    ")"
   ]
  },
  {
   "cell_type": "code",
   "execution_count": 7,
   "id": "0cc1830a-88df-49f8-bb85-93fce9b9dc3c",
   "metadata": {},
   "outputs": [
    {
     "name": "stdout",
     "output_type": "stream",
     "text": [
      "The 2026 Winter Olympics, officially known as the XXV Olympic Winter Games and commonly known as Milano Cortina 2026, will be hosted in Italy, with the primary locations being Milan and Cortina d'Ampezzo. These will be the first Olympic Games to be officially co-hosted by multiple cities.\n",
      "\n"
     ]
    }
   ],
   "source": [
    "for each in response.candidates[0].content.parts:\n",
    "    print(each.text)"
   ]
  },
  {
   "cell_type": "code",
   "execution_count": null,
   "id": "da205a03-00b3-45fe-990d-82731478e274",
   "metadata": {},
   "outputs": [],
   "source": []
  }
 ],
 "metadata": {
  "kernelspec": {
   "display_name": "Python 3 (ipykernel)",
   "language": "python",
   "name": "python3"
  },
  "language_info": {
   "codemirror_mode": {
    "name": "ipython",
    "version": 3
   },
   "file_extension": ".py",
   "mimetype": "text/x-python",
   "name": "python",
   "nbconvert_exporter": "python",
   "pygments_lexer": "ipython3",
   "version": "3.12.8"
  }
 },
 "nbformat": 4,
 "nbformat_minor": 5
}
