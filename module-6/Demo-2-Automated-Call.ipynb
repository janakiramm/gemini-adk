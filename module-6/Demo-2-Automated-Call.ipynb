{
 "cells": [
  {
   "cell_type": "markdown",
   "id": "8fc9d93b-b2e2-4cce-8c68-cba9d3585cdb",
   "metadata": {},
   "source": [
    "### Import Modules"
   ]
  },
  {
   "cell_type": "code",
   "execution_count": 1,
   "id": "539aa9e9-660a-4ae7-846c-68e81561f8df",
   "metadata": {},
   "outputs": [],
   "source": [
    "from google import genai\n",
    "from google.genai import types"
   ]
  },
  {
   "cell_type": "markdown",
   "id": "ed0fd082-9879-4dcf-8f10-6558ad7a709b",
   "metadata": {},
   "source": [
    "### Define and Implement Function "
   ]
  },
  {
   "cell_type": "code",
   "execution_count": 2,
   "id": "f7dce67d-3bc5-4f0f-a4e7-bc4096d7b85a",
   "metadata": {},
   "outputs": [],
   "source": [
    "def get_current_temperature(location: str) -> dict:\n",
    "    \"\"\"Dummy function that always returns 27°C for any location.\n",
    "\n",
    "    Args:\n",
    "        location: The city name.\n",
    "\n",
    "    Returns:\n",
    "        A dictionary with the temperature in Celsius.\n",
    "    \"\"\"\n",
    "    print(f\"Fetching temperature for {location}...\")\n",
    "    return {\"temperature_celsius\": 27}"
   ]
  },
  {
   "cell_type": "markdown",
   "id": "5e31f79e-3afb-46f5-b740-d0a0a1480105",
   "metadata": {},
   "source": [
    "### Initialize Client"
   ]
  },
  {
   "cell_type": "code",
   "execution_count": 3,
   "id": "6b911ca7-e36d-4137-ac33-68f13643e184",
   "metadata": {},
   "outputs": [],
   "source": [
    "client = genai.Client()"
   ]
  },
  {
   "cell_type": "markdown",
   "id": "ebc107ed-4fe7-4812-9b28-88c1d5d8bb69",
   "metadata": {},
   "source": [
    "### Wire the Function"
   ]
  },
  {
   "cell_type": "code",
   "execution_count": 4,
   "id": "84b42c4a-5fbe-4ec0-bfb3-f3d8bda7509b",
   "metadata": {},
   "outputs": [],
   "source": [
    "config = types.GenerateContentConfig(\n",
    "    tools=[get_current_temperature]\n",
    ")"
   ]
  },
  {
   "cell_type": "markdown",
   "id": "09bd894e-6ce5-4709-b4d7-8b2e64b8f61a",
   "metadata": {},
   "source": [
    "### Invoke Gemini API"
   ]
  },
  {
   "cell_type": "code",
   "execution_count": 5,
   "id": "1e745ebd-7a98-43af-ab85-bdc176c6d879",
   "metadata": {},
   "outputs": [
    {
     "name": "stdout",
     "output_type": "stream",
     "text": [
      "Fetching temperature for London...\n"
     ]
    }
   ],
   "source": [
    "response = client.models.generate_content(\n",
    "    model=\"gemini-2.5-flash\",\n",
    "    contents=\"What's the temperature in London?\",\n",
    "    config=config,\n",
    ")"
   ]
  },
  {
   "cell_type": "markdown",
   "id": "70b8c21e-7c8c-4ab2-a128-06e8eb83adfe",
   "metadata": {},
   "source": [
    "### Access the Output"
   ]
  },
  {
   "cell_type": "code",
   "execution_count": 6,
   "id": "e955fccc-51d2-4074-9c5a-f5a7cb7ef9fe",
   "metadata": {},
   "outputs": [
    {
     "name": "stderr",
     "output_type": "stream",
     "text": [
      "Warning: there are non-text parts in the response: ['thought_signature'], returning concatenated text result from text parts. Check the full candidates.content.parts accessor to get the full model response.\n"
     ]
    },
    {
     "name": "stdout",
     "output_type": "stream",
     "text": [
      "The current temperature in London is 27°C.\n"
     ]
    }
   ],
   "source": [
    "print(response.text)"
   ]
  },
  {
   "cell_type": "code",
   "execution_count": null,
   "id": "b4bd4616-50d9-4616-84cc-979f9217f241",
   "metadata": {},
   "outputs": [],
   "source": []
  }
 ],
 "metadata": {
  "kernelspec": {
   "display_name": "Python 3 (ipykernel)",
   "language": "python",
   "name": "python3"
  },
  "language_info": {
   "codemirror_mode": {
    "name": "ipython",
    "version": 3
   },
   "file_extension": ".py",
   "mimetype": "text/x-python",
   "name": "python",
   "nbconvert_exporter": "python",
   "pygments_lexer": "ipython3",
   "version": "3.12.8"
  }
 },
 "nbformat": 4,
 "nbformat_minor": 5
}
