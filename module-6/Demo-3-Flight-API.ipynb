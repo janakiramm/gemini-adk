{
 "cells": [
  {
   "cell_type": "markdown",
   "id": "6595371e-e41a-40a2-afd9-f17f00dc22fb",
   "metadata": {},
   "source": [
    "### Import Modules"
   ]
  },
  {
   "cell_type": "code",
   "execution_count": 1,
   "id": "20fd9070-3aa8-4b35-a600-489af6bfd6e4",
   "metadata": {},
   "outputs": [],
   "source": [
    "import os\n",
    "import requests\n",
    "from datetime import datetime, timedelta\n",
    "import pytz\n",
    "from google import genai\n",
    "from google.genai import types"
   ]
  },
  {
   "cell_type": "markdown",
   "id": "ac07cea5-c8ea-4045-a192-0333187b1209",
   "metadata": {},
   "source": [
    "### Define and Implement Function "
   ]
  },
  {
   "cell_type": "code",
   "execution_count": 2,
   "id": "aa877fed-c2aa-4110-9f27-b375f03e162d",
   "metadata": {},
   "outputs": [],
   "source": [
    "def get_flight_status(flight: str) -> dict:\n",
    "    \"\"\"Returns live flight status information for a given flight ID.\"\"\"\n",
    "    AEROAPI_BASE_URL = \"https://aeroapi.flightaware.com/aeroapi\"\n",
    "    AEROAPI_KEY = os.getenv(\"AERO_API_KEY\") \n",
    "\n",
    "    if not AEROAPI_KEY:\n",
    "        raise ValueError(\"AERO_API_KEY is not set in the environment variables.\")\n",
    "\n",
    "    def get_api_session():\n",
    "        session = requests.Session()\n",
    "        session.headers.update({\"x-apikey\": AEROAPI_KEY})\n",
    "        return session\n",
    "\n",
    "    def fetch_flight_data(flight_id, session):\n",
    "        if \"flight_id=\" in flight_id:\n",
    "            flight_id = flight_id.split(\"flight_id=\")[1]\n",
    "\n",
    "        start_date = datetime.now().date().strftime('%Y-%m-%d')\n",
    "        end_date = (datetime.now().date() + timedelta(days=1)).strftime('%Y-%m-%d')\n",
    "        api_resource = f\"/flights/{flight_id}?start={start_date}&end={end_date}\"\n",
    "        response = session.get(f\"{AEROAPI_BASE_URL}{api_resource}\")\n",
    "        response.raise_for_status()\n",
    "        return response.json()['flights'][0]\n",
    "\n",
    "    def utc_to_local(utc_date_str, local_timezone_str):\n",
    "        utc_datetime = datetime.strptime(utc_date_str, '%Y-%m-%dT%H:%M:%SZ').replace(tzinfo=pytz.utc)\n",
    "        local_timezone = pytz.timezone(local_timezone_str)\n",
    "        local_datetime = utc_datetime.astimezone(local_timezone)\n",
    "        return local_datetime.strftime('%Y-%m-%d %H:%M:%S')\n",
    "\n",
    "    session = get_api_session()\n",
    "    flight_data = fetch_flight_data(flight, session)\n",
    "\n",
    "    dep_key = 'estimated_out' if 'estimated_out' in flight_data and flight_data['estimated_out'] else \\\n",
    "              'actual_out' if 'actual_out' in flight_data and flight_data['actual_out'] else \\\n",
    "              'scheduled_out'\n",
    "\n",
    "    arr_key = 'estimated_in' if 'estimated_in' in flight_data and flight_data['estimated_in'] else \\\n",
    "              'actual_in' if 'actual_in' in flight_data and flight_data['actual_in'] else \\\n",
    "              'scheduled_in'\n",
    "\n",
    "    flight_details = {\n",
    "        'flight': flight,\n",
    "        'source': flight_data['origin']['city'],\n",
    "        'destination': flight_data['destination']['city'],\n",
    "        'depart_time': utc_to_local(flight_data[dep_key], flight_data['origin']['timezone']),\n",
    "        'arrival_time': utc_to_local(flight_data[arr_key], flight_data['destination']['timezone']),\n",
    "        'status': flight_data['status']\n",
    "    }\n",
    "    return flight_details"
   ]
  },
  {
   "cell_type": "markdown",
   "id": "e6fa82dd-f60b-49dc-9984-cb1d698ef69d",
   "metadata": {},
   "source": [
    "### Initialize Client"
   ]
  },
  {
   "cell_type": "code",
   "execution_count": 3,
   "id": "5e0b0759-c2bb-47b0-892f-c1e7b662c11b",
   "metadata": {},
   "outputs": [],
   "source": [
    "client = genai.Client()"
   ]
  },
  {
   "cell_type": "markdown",
   "id": "5eee2877-6da0-4566-b088-35d643287e97",
   "metadata": {},
   "source": [
    "### Wire the Function"
   ]
  },
  {
   "cell_type": "code",
   "execution_count": 4,
   "id": "20f0989e-2fbd-4366-aec5-e53966adfa4d",
   "metadata": {},
   "outputs": [],
   "source": [
    "config = types.GenerateContentConfig(\n",
    "    tools=[get_flight_status]\n",
    ")"
   ]
  },
  {
   "cell_type": "markdown",
   "id": "89cfc084-43d3-4761-af2a-e337c7dbd5f9",
   "metadata": {},
   "source": [
    "### Invoke Gemini API"
   ]
  },
  {
   "cell_type": "code",
   "execution_count": 5,
   "id": "1a297b9d-904c-4bb1-aed1-2439afaf0231",
   "metadata": {},
   "outputs": [],
   "source": [
    "response = client.models.generate_content(\n",
    "    model=\"gemini-2.5-flash\",\n",
    "    contents=\"What’s the status of EK226?\",\n",
    "    config=config,\n",
    ")"
   ]
  },
  {
   "cell_type": "markdown",
   "id": "2278f062-746d-476b-8152-3cfac21da7cb",
   "metadata": {},
   "source": [
    "### Access the Output"
   ]
  },
  {
   "cell_type": "code",
   "execution_count": 6,
   "id": "7a8baf4e-807c-4ebb-af51-3d04998577cd",
   "metadata": {},
   "outputs": [
    {
     "name": "stderr",
     "output_type": "stream",
     "text": [
      "Warning: there are non-text parts in the response: ['thought_signature'], returning concatenated text result from text parts. Check the full candidates.content.parts accessor to get the full model response.\n"
     ]
    },
    {
     "name": "stdout",
     "output_type": "stream",
     "text": [
      "Flight EK226 from San Francisco to Dubai is currently En Route / On Time. It departed on 2025-07-08 at 17:05:00 and is expected to arrive on 2025-07-09 at 19:12:00.\n"
     ]
    }
   ],
   "source": [
    "print(response.text)"
   ]
  },
  {
   "cell_type": "code",
   "execution_count": null,
   "id": "e7343032-a225-49de-8857-bf5220b4e5c3",
   "metadata": {},
   "outputs": [],
   "source": []
  }
 ],
 "metadata": {
  "kernelspec": {
   "display_name": "Python 3 (ipykernel)",
   "language": "python",
   "name": "python3"
  },
  "language_info": {
   "codemirror_mode": {
    "name": "ipython",
    "version": 3
   },
   "file_extension": ".py",
   "mimetype": "text/x-python",
   "name": "python",
   "nbconvert_exporter": "python",
   "pygments_lexer": "ipython3",
   "version": "3.12.8"
  }
 },
 "nbformat": 4,
 "nbformat_minor": 5
}
