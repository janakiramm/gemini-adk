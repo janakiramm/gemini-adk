{
 "cells": [
  {
   "cell_type": "markdown",
   "id": "1cd7544a-97bd-4d66-929e-acb138e65dc8",
   "metadata": {
    "jp-MarkdownHeadingCollapsed": true
   },
   "source": [
    "## Import Modules"
   ]
  },
  {
   "cell_type": "code",
   "execution_count": 1,
   "id": "79d80470-739f-4bfc-97cd-5ea018c89ac9",
   "metadata": {},
   "outputs": [],
   "source": [
    "from google import genai\n",
    "from google.genai import types\n",
    "import os"
   ]
  },
  {
   "cell_type": "markdown",
   "id": "7e2a2eb3-d466-4fbd-bb6d-e23a9c2d136f",
   "metadata": {
    "jp-MarkdownHeadingCollapsed": true
   },
   "source": [
    "## Initialize Client"
   ]
  },
  {
   "cell_type": "code",
   "execution_count": 2,
   "id": "05ec6f5e-8428-4ad2-97a9-ea53e2ec8617",
   "metadata": {},
   "outputs": [],
   "source": [
    "GOOGLE_API_KEY=os.environ.get('GOOGLE_API_KEY')"
   ]
  },
  {
   "cell_type": "code",
   "execution_count": 3,
   "id": "e22a3456-c2b5-4826-92a1-0c2ef2c2863d",
   "metadata": {},
   "outputs": [],
   "source": [
    "client = genai.Client(api_key=GOOGLE_API_KEY)"
   ]
  },
  {
   "cell_type": "markdown",
   "id": "91ec5cd1-b2f0-408d-aa13-7c14e6513cc4",
   "metadata": {
    "jp-MarkdownHeadingCollapsed": true
   },
   "source": [
    "## Prompt 1"
   ]
  },
  {
   "cell_type": "code",
   "execution_count": 4,
   "id": "ea52643d-f139-4bd1-8655-2c4427c98092",
   "metadata": {},
   "outputs": [],
   "source": [
    "prompt = \"\"\"\n",
    "Persona: You are a veteran financial advisor with 20 years of experience.\n",
    "Task: Summarize the key risks and opportunities in the client’s investment portfolio.\n",
    "Context: The client is 45 years old, has a moderate risk tolerance, and is planning for retirement in 20 years. Their portfolio includes 60% equities, 30% bonds, and 10% cash.\n",
    "Format: Present your answer as a bullet-point list, separating risks and opportunities.\n",
    "\"\"\""
   ]
  },
  {
   "cell_type": "code",
   "execution_count": 5,
   "id": "9043e75b-2bcc-45e0-bb5e-19c0c53605f2",
   "metadata": {},
   "outputs": [],
   "source": [
    "response = client.models.generate_content(\n",
    "    model=\"gemini-2.0-flash-001\", contents=prompt\n",
    ")"
   ]
  },
  {
   "cell_type": "code",
   "execution_count": 6,
   "id": "66d2098b-8d48-4a8e-afb1-edeaf9c11347",
   "metadata": {},
   "outputs": [
    {
     "name": "stdout",
     "output_type": "stream",
     "text": [
      "Okay, let's take a look at the key risks and opportunities within your current investment portfolio, keeping in mind your age, risk tolerance, and 20-year retirement horizon. Here's a breakdown:\n",
      "\n",
      "**Risks:**\n",
      "\n",
      "*   **Market Volatility & Sequence of Returns Risk (Equities):** With 60% of your portfolio in equities, you're exposed to market fluctuations. While equities offer growth potential, they can experience significant downturns. A major market correction closer to your retirement date (poor sequence of returns) could significantly impact your nest egg, even if the market recovers later.\n",
      "*   **Inflation Risk (Fixed Income & Cash):** Inflation erodes the purchasing power of your investments, especially fixed income. While bonds provide stability, their returns may not always outpace inflation. The 10% cash allocation, while offering liquidity, is particularly vulnerable to inflation.\n",
      "*   **Interest Rate Risk (Bonds):** As interest rates rise, the value of your existing bond holdings could decline. This is a concern in a potentially rising interest rate environment. While the impact on a shorter-term portfolio might be minimal, over a 20-year period, this can accumulate.\n",
      "*   **Reinvestment Risk (Bonds):** When bonds mature or are called, the proceeds may need to be reinvested at lower interest rates, impacting your overall income stream.\n",
      "*   **Concentration Risk (Equities - Possible):** Depending on the specific equity holdings (individual stocks or specific sectors), there might be concentration risk. Over-reliance on a single company or industry could expose you to greater losses if that area underperforms. *We need to analyze the specific equity holdings to confirm this risk.*\n",
      "*   **Longevity Risk:** While not directly a portfolio risk, it's a financial planning risk. 20 years until retirement seems like a long time, but you need to ensure your portfolio is robust enough to last throughout your retirement, given increasing life expectancies.\n",
      "\n",
      "**Opportunities:**\n",
      "\n",
      "*   **Long-Term Growth Potential (Equities):** Your substantial equity allocation provides significant potential for long-term growth. History shows that equities tend to outperform other asset classes over extended periods, which is beneficial given your 20-year timeframe.\n",
      "*   **Compounding Returns:** Time is your ally. The longer your investments have to grow, the more significant the effects of compounding. Reinvesting dividends and capital gains will accelerate this process.\n",
      "*   **Diversification (Existing):** The existing mix of equities, bonds, and cash provides a base level of diversification. This helps to mitigate risk compared to a portfolio solely focused on one asset class.\n",
      "*   **Rebalancing Opportunities:** Regularly rebalancing your portfolio back to your target asset allocation (60/30/10) forces you to sell high and buy low, potentially enhancing returns and managing risk.\n",
      "*   **Tax-Advantaged Investing:** Utilizing tax-advantaged accounts like 401(k)s or IRAs can significantly reduce your tax burden, allowing more of your investment returns to compound tax-free or tax-deferred. Ensure you are maximizing these opportunities.\n",
      "*   **Potential for Active Management (Equities):** With a moderate risk tolerance and long-term horizon, there's an opportunity to potentially outperform the market by strategically selecting actively managed equity funds (if appropriate), or by tactically adjusting sector allocations based on market conditions. *Careful fund selection and ongoing monitoring are crucial here.*\n",
      "*   **Bond Laddering:** Implementing a bond laddering strategy, where bonds mature at different intervals, can help to mitigate interest rate risk and provide a more consistent income stream.\n",
      "\n",
      "It's important to remember that this is a general assessment. A more thorough review of your specific holdings, financial goals, and personal circumstances is necessary to develop a tailored investment strategy. We should schedule a time to discuss these points in more detail.\n",
      "\n"
     ]
    }
   ],
   "source": [
    "print(response.text)"
   ]
  },
  {
   "cell_type": "markdown",
   "id": "3293debf-7800-4d2b-9742-60642b627f24",
   "metadata": {
    "jp-MarkdownHeadingCollapsed": true
   },
   "source": [
    "## Prompt 2"
   ]
  },
  {
   "cell_type": "code",
   "execution_count": 7,
   "id": "353ac0f6-ad65-4b20-82e2-9f53424f54cf",
   "metadata": {},
   "outputs": [],
   "source": [
    "prompt = \"\"\"\n",
    "Persona: You are a veteran financial advisor with 20 years of experience.\n",
    "Task: Summarize the key risks and opportunities in the client’s investment portfolio.\n",
    "Context: The client is 45 years old, has a moderate risk tolerance, and is planning for retirement in 20 years. Their portfolio includes 60% equities, 30% bonds, and 10% cash.\n",
    "Format: Present your answer as a JSON object, separating risks and opportunities.\n",
    "\"\"\""
   ]
  },
  {
   "cell_type": "code",
   "execution_count": 8,
   "id": "cb62913a-0033-427b-9a0c-3a1f79e8c2f8",
   "metadata": {},
   "outputs": [],
   "source": [
    "response = client.models.generate_content(\n",
    "    model=\"gemini-2.0-flash-001\", contents=prompt\n",
    ")"
   ]
  },
  {
   "cell_type": "code",
   "execution_count": 9,
   "id": "8a4bb838-556d-480b-ab79-33989b0b144b",
   "metadata": {},
   "outputs": [
    {
     "name": "stdout",
     "output_type": "stream",
     "text": [
      "```json\n",
      "{\n",
      "  \"clientProfile\": {\n",
      "    \"age\": 45,\n",
      "    \"riskTolerance\": \"Moderate\",\n",
      "    \"timeHorizon\": \"20 years (Retirement Planning)\",\n",
      "    \"assetAllocation\": {\n",
      "      \"equities\": \"60%\",\n",
      "      \"bonds\": \"30%\",\n",
      "      \"cash\": \"10%\"\n",
      "    }\n",
      "  },\n",
      "  \"summary\": {\n",
      "    \"risks\": [\n",
      "      {\n",
      "        \"riskType\": \"Market Volatility\",\n",
      "        \"description\": \"The 60% equity allocation, while beneficial for long-term growth, exposes the portfolio to market fluctuations. Economic downturns, geopolitical events, and changes in investor sentiment can lead to significant temporary declines in portfolio value. A moderate risk tolerance means understanding and accepting these potential fluctuations is key.\",\n",
      "        \"mitigationStrategies\": [\n",
      "          \"Diversification across sectors and geographies within the equity allocation can help to reduce concentration risk.\",\n",
      "          \"Regular rebalancing to maintain the target asset allocation ensures that gains are not overly concentrated in one area.\",\n",
      "          \"Dollar-cost averaging into equity positions can help to smooth out the impact of market volatility over time.\"\n",
      "        ]\n",
      "      },\n",
      "      {\n",
      "        \"riskType\": \"Inflation Risk\",\n",
      "        \"description\": \"Inflation erodes the purchasing power of returns. While equities generally provide some protection against inflation, the 30% bond allocation, particularly if it includes longer-duration bonds, may underperform in a rising interest rate environment triggered by inflation. The 10% cash allocation will also lose purchasing power faster in inflationary environments.\",\n",
      "        \"mitigationStrategies\": [\n",
      "          \"Consider incorporating inflation-protected securities (TIPS) within the bond allocation.\",\n",
      "          \"Re-evaluate the bond duration profile to potentially shorten it if inflation is a significant concern.\",\n",
      "          \"Explore alternative investments that offer inflation hedges, such as real estate or commodities, but only after carefully considering their individual risk profiles and suitability.\"\n",
      "        ]\n",
      "      },\n",
      "      {\n",
      "        \"riskType\": \"Interest Rate Risk\",\n",
      "        \"description\": \"Rising interest rates can negatively impact the value of fixed-income securities, especially bonds with longer maturities. While a moderate risk tolerance suggests some comfort with this, the current interest rate environment (if applicable, this should be updated based on current market conditions) should be carefully considered.\",\n",
      "        \"mitigationStrategies\": [\n",
      "          \"Diversification across different bond maturities to reduce the overall portfolio duration.\",\n",
      "          \"Considering floating-rate notes, which adjust their interest payments along with changes in benchmark interest rates.\",\n",
      "          \"Holding bonds to maturity, if feasible, to receive the face value.\"\n",
      "        ]\n",
      "      }\n",
      "    ],\n",
      "    \"opportunities\": [\n",
      "      {\n",
      "        \"opportunityType\": \"Long-Term Growth Potential\",\n",
      "        \"description\": \"With a 20-year time horizon and a 60% equity allocation, the portfolio is well-positioned to benefit from the long-term growth potential of the stock market. Equities have historically provided higher returns than bonds and cash over extended periods, allowing for significant capital appreciation.\",\n",
      "        \"strategies\": [\n",
      "          \"Maintain a disciplined investment approach and avoid making emotional decisions based on short-term market fluctuations.\",\n",
      "          \"Regularly review the portfolio's performance and make adjustments as needed to ensure it remains aligned with the client's goals and risk tolerance.\",\n",
      "          \"Consider increasing equity exposure slightly if the client's risk tolerance allows for it and market conditions are favorable, potentially focusing on sectors with strong growth prospects.\"\n",
      "        ]\n",
      "      },\n",
      "      {\n",
      "        \"opportunityType\": \"Compounding Returns\",\n",
      "        \"description\": \"Reinvesting dividends and capital gains allows the portfolio to benefit from the power of compounding, where returns generate further returns over time. This is particularly important over a 20-year horizon.\",\n",
      "        \"strategies\": [\n",
      "          \"Ensure that all dividends and capital gains are automatically reinvested back into the portfolio.\",\n",
      "          \"Consider making additional contributions to the portfolio regularly to further accelerate the compounding process.\",\n",
      "          \"Explore tax-advantaged accounts (e.g., 401(k), IRA) to maximize the benefits of compounding by deferring or eliminating taxes on investment gains.\"\n",
      "        ]\n",
      "      },\n",
      "      {\n",
      "        \"opportunityType\": \"Bond Diversification and Stability\",\n",
      "        \"description\": \"The 30% bond allocation provides stability and diversification to the portfolio, helping to cushion against market volatility. Bonds can also provide a source of income and reduce overall portfolio risk.\",\n",
      "        \"strategies\": [\n",
      "          \"Diversify the bond allocation across different credit qualities and maturities to reduce risk.\",\n",
      "          \"Consider using actively managed bond funds to potentially outperform the bond market.\",\n",
      "          \"Re-evaluate the bond allocation periodically to ensure it remains appropriate for the client's risk tolerance and investment goals.\"\n",
      "        ]\n",
      "      }\n",
      "    ]\n",
      "  }\n",
      "}\n",
      "```\n"
     ]
    }
   ],
   "source": [
    "print(response.text)"
   ]
  },
  {
   "cell_type": "code",
   "execution_count": null,
   "id": "73e1414b-3a19-4fac-994f-1794cd67ee52",
   "metadata": {},
   "outputs": [],
   "source": []
  }
 ],
 "metadata": {
  "kernelspec": {
   "display_name": "Python 3 (ipykernel)",
   "language": "python",
   "name": "python3"
  },
  "language_info": {
   "codemirror_mode": {
    "name": "ipython",
    "version": 3
   },
   "file_extension": ".py",
   "mimetype": "text/x-python",
   "name": "python",
   "nbconvert_exporter": "python",
   "pygments_lexer": "ipython3",
   "version": "3.12.8"
  }
 },
 "nbformat": 4,
 "nbformat_minor": 5
}
