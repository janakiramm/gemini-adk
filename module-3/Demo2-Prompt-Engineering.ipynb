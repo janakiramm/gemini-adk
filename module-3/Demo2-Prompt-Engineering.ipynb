{
 "cells": [
  {
   "cell_type": "markdown",
   "id": "2babb44d-6c8a-4441-a089-7d868409ea5f",
   "metadata": {},
   "source": [
    "## Import Modules"
   ]
  },
  {
   "cell_type": "code",
   "execution_count": 1,
   "id": "79d80470-739f-4bfc-97cd-5ea018c89ac9",
   "metadata": {},
   "outputs": [],
   "source": [
    "from google import genai\n",
    "from google.genai import types\n",
    "import os"
   ]
  },
  {
   "cell_type": "markdown",
   "id": "47f48864-f4f1-43bb-ac9e-1a1a4ef8e715",
   "metadata": {},
   "source": [
    "## Initialize Client"
   ]
  },
  {
   "cell_type": "code",
   "execution_count": 2,
   "id": "05ec6f5e-8428-4ad2-97a9-ea53e2ec8617",
   "metadata": {},
   "outputs": [],
   "source": [
    "GOOGLE_API_KEY=os.environ.get('GOOGLE_API_KEY')"
   ]
  },
  {
   "cell_type": "code",
   "execution_count": 3,
   "id": "e22a3456-c2b5-4826-92a1-0c2ef2c2863d",
   "metadata": {},
   "outputs": [],
   "source": [
    "client = genai.Client(api_key=GOOGLE_API_KEY)"
   ]
  },
  {
   "cell_type": "markdown",
   "id": "586a215a-7d13-4ec0-874f-d08b8b8ba0c4",
   "metadata": {},
   "source": [
    "## Zero-shot"
   ]
  },
  {
   "cell_type": "code",
   "execution_count": 5,
   "id": "ea52643d-f139-4bd1-8655-2c4427c98092",
   "metadata": {},
   "outputs": [],
   "source": [
    "zero_shot_prompt = \"\"\"\n",
    "Classify the sentiment of the following text as positive, negative, or neutral.\n",
    "\n",
    "Text: I think the vacation was okay.\n",
    "\n",
    "Sentiment:\n",
    "\"\"\""
   ]
  },
  {
   "cell_type": "code",
   "execution_count": 6,
   "id": "9043e75b-2bcc-45e0-bb5e-19c0c53605f2",
   "metadata": {},
   "outputs": [],
   "source": [
    "response = client.models.generate_content(\n",
    "    model=\"gemini-2.0-flash-001\", contents=zero_shot_prompt\n",
    ")"
   ]
  },
  {
   "cell_type": "code",
   "execution_count": 7,
   "id": "66d2098b-8d48-4a8e-afb1-edeaf9c11347",
   "metadata": {},
   "outputs": [
    {
     "name": "stdout",
     "output_type": "stream",
     "text": [
      "Zero-Shot: Neutral\n",
      "\n"
     ]
    }
   ],
   "source": [
    "print(\"Zero-Shot:\", response.text)"
   ]
  },
  {
   "cell_type": "markdown",
   "id": "47ac5b27-6205-4cdf-8e2f-6a1a36b995c1",
   "metadata": {},
   "source": [
    "## One-shot"
   ]
  },
  {
   "cell_type": "code",
   "execution_count": 8,
   "id": "353ac0f6-ad65-4b20-82e2-9f53424f54cf",
   "metadata": {},
   "outputs": [],
   "source": [
    "one_shot_prompt = \"\"\"\n",
    "Classify the sentiment of the following text as positive, negative, or neutral.\n",
    "\n",
    "Text: The product is terrible.\n",
    "Sentiment: Negative\n",
    "\n",
    "Text: I think the vacation was not good.\n",
    "Sentiment:\n",
    "\"\"\""
   ]
  },
  {
   "cell_type": "code",
   "execution_count": 9,
   "id": "cb62913a-0033-427b-9a0c-3a1f79e8c2f8",
   "metadata": {},
   "outputs": [],
   "source": [
    "response = client.models.generate_content(\n",
    "    model=\"gemini-2.0-flash-001\", contents=one_shot_prompt\n",
    ")"
   ]
  },
  {
   "cell_type": "code",
   "execution_count": 10,
   "id": "409371d8-690c-4cc8-b8f0-21276371bda9",
   "metadata": {},
   "outputs": [
    {
     "name": "stdout",
     "output_type": "stream",
     "text": [
      "One-Shot: Negative\n",
      "\n"
     ]
    }
   ],
   "source": [
    "print(\"One-Shot:\", response.text)"
   ]
  },
  {
   "cell_type": "markdown",
   "id": "cbe7f80f-68a3-45fa-8be9-ff593bc2257e",
   "metadata": {},
   "source": [
    "## Few-shot"
   ]
  },
  {
   "cell_type": "code",
   "execution_count": 11,
   "id": "8a4bb838-556d-480b-ab79-33989b0b144b",
   "metadata": {},
   "outputs": [],
   "source": [
    "few_shot_prompt = \"\"\"\n",
    "Classify the sentiment of the following text as positive, negative, or neutral.\n",
    "\n",
    "Text: The product is terrible.\n",
    "Sentiment: Negative\n",
    "\n",
    "Text: Super helpful, worth it.\n",
    "Sentiment: Positive\n",
    "\n",
    "Text: I think the vacation was okay.\n",
    "Sentiment:\n",
    "\"\"\""
   ]
  },
  {
   "cell_type": "code",
   "execution_count": 12,
   "id": "9a7182da-d7d7-4dd2-b380-be467d09090e",
   "metadata": {},
   "outputs": [],
   "source": [
    "response = client.models.generate_content(\n",
    "    model=\"gemini-2.0-flash-001\", contents=few_shot_prompt\n",
    ")"
   ]
  },
  {
   "cell_type": "code",
   "execution_count": 13,
   "id": "100ea60d-2575-462d-9b2d-96b10d33dd8b",
   "metadata": {},
   "outputs": [
    {
     "name": "stdout",
     "output_type": "stream",
     "text": [
      "Few-Shot: Sentiment: Neutral\n",
      "\n"
     ]
    }
   ],
   "source": [
    "print(\"Few-Shot:\", response.text)"
   ]
  }
 ],
 "metadata": {
  "kernelspec": {
   "display_name": "Python 3 (ipykernel)",
   "language": "python",
   "name": "python3"
  },
  "language_info": {
   "codemirror_mode": {
    "name": "ipython",
    "version": 3
   },
   "file_extension": ".py",
   "mimetype": "text/x-python",
   "name": "python",
   "nbconvert_exporter": "python",
   "pygments_lexer": "ipython3",
   "version": "3.12.8"
  }
 },
 "nbformat": 4,
 "nbformat_minor": 5
}
